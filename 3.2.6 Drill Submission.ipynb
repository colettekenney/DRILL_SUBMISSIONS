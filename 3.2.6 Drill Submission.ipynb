{
 "cells": [
  {
   "cell_type": "markdown",
   "metadata": {},
   "source": [
    "# Drill - Exercises in Bayes' Rule\n",
    "\n",
    "A diagnostic test has a 98% probability of giving a positive result when applied to a person suffering from Thripshaw's Disease, and 10% probability of giving a (false) positive when applied to a non-sufferer. It is estimated that 0.5 % of the population are sufferers. Suppose that the test is now administered to a person whose disease status is unknown. Calculate the probability that the test will:\n",
    "\n",
    "1. Be positive\n",
    "2. Correctly diagnose a sufferer of Thripshaw's\n",
    "3. Correctly identify a non-sufferer of Thripshaw's\n",
    "4. Misclassify the person"
   ]
  },
  {
   "cell_type": "markdown",
   "metadata": {},
   "source": [
    "## To answer these questions, I will first set up the joint probability distribution:\n",
    "\n",
    "<table border cellpadding=\"5\" width=\"98%\">\n",
    "    <tbody>\n",
    "        <tr>\n",
    "            <td>Test</td>\n",
    "            <td>Thripshaw's</td>\n",
    "            <td>Not Thripshaw's</td>\n",
    "            <td>TOTAL</td>\n",
    "        </tr>\n",
    "        <tr>\n",
    "            <td>Positive</td>\n",
    "            <td>.98(.005) = .0049</td>\n",
    "            <td>.1(.995) = .0995</td>\n",
    "            <td>.1044</td>\n",
    "        </tr>\n",
    "        <tr>\n",
    "            <td>Negative</td>\n",
    "            <td>.02(.005) = .0001</td>\n",
    "            <td>.9(.995) = .8955</td>\n",
    "            <td>.8956</td>\n",
    "        </tr>\n",
    "        <tr>\n",
    "            <td>TOTAL</td>\n",
    "            <td>.005</td>\n",
    "            <td>.995</td>\n",
    "            <td>1</td>\n",
    "        </tr>\n",
    "    </tbody>\n",
    "</table>\n",
    "\n",
    "Note: This is the best thing I've found that teaches Bayes' Theorem:\n",
    "https://people.richland.edu/james/lecture/m170/ch05-cnd.html"
   ]
  },
  {
   "cell_type": "markdown",
   "metadata": {},
   "source": [
    "## Question 1\n",
    "\n",
    "What is the probability of a positive test\n",
    "\n",
    "### My Answer:\n",
    "\n",
    "\n",
    "`P(Pos) * P(Inf) + P(Pos) * P(Not Inf)`\n",
    "\n",
    "`(.98 * .005) + (.1 * (1-.005))`"
   ]
  },
  {
   "cell_type": "code",
   "execution_count": 1,
   "metadata": {},
   "outputs": [
    {
     "data": {
      "text/plain": [
       "0.1044"
      ]
     },
     "execution_count": 1,
     "metadata": {},
     "output_type": "execute_result"
    }
   ],
   "source": [
    "(.98 * .005) + (.1 * (1-.005))"
   ]
  },
  {
   "cell_type": "markdown",
   "metadata": {},
   "source": [
    "## Question 2\n",
    "\n",
    "What is the probability of correctly diagnosing a sufferer of Thripshaw's\n",
    "\n",
    "### My Answer:\n",
    "\n",
    "This is given in the text of the problem, <em>\"A diagnostic test has a 98% probability of giving a positive result when applied to a person suffering from Thripshaw's Disease\"</em>\n"
   ]
  },
  {
   "cell_type": "code",
   "execution_count": 4,
   "metadata": {},
   "outputs": [
    {
     "data": {
      "text/plain": [
       "0.98"
      ]
     },
     "execution_count": 4,
     "metadata": {},
     "output_type": "execute_result"
    }
   ],
   "source": [
    ".98"
   ]
  },
  {
   "cell_type": "markdown",
   "metadata": {},
   "source": [
    "## Question 3\n",
    "\n",
    "What is the probability of correctly identifying a non-sufferer of Thripshaw's\n",
    "### My Answer:\n",
    "\n",
    "`P(Neg) * P(Not Inf) = .9 * (1-.005)`"
   ]
  },
  {
   "cell_type": "code",
   "execution_count": 3,
   "metadata": {},
   "outputs": [
    {
     "data": {
      "text/plain": [
       "0.8955"
      ]
     },
     "execution_count": 3,
     "metadata": {},
     "output_type": "execute_result"
    }
   ],
   "source": [
    ".9 * (1-.005)"
   ]
  },
  {
   "cell_type": "markdown",
   "metadata": {},
   "source": [
    "## Question 4\n",
    "What is the probability of misclassifying the person \n",
    "\n",
    "### My Answer:\n",
    "Another way of phrasing this question is: they have Thripshaw's but got a negative test, and they don't have Thripshaw's but got a positive test\n",
    "\n",
    "`(P(Neg) * P(Inf)) + (P(Pos) * P(Not Inf))`\n",
    "\n",
    "`(.02 * .005) + (.1 * .995)`"
   ]
  },
  {
   "cell_type": "code",
   "execution_count": 6,
   "metadata": {},
   "outputs": [
    {
     "data": {
      "text/plain": [
       "0.0996"
      ]
     },
     "execution_count": 6,
     "metadata": {},
     "output_type": "execute_result"
    }
   ],
   "source": [
    "% precision 4\n",
    "(.02 * .005) + (.1 * .995)"
   ]
  },
  {
   "cell_type": "code",
   "execution_count": null,
   "metadata": {},
   "outputs": [],
   "source": []
  }
 ],
 "metadata": {
  "kernelspec": {
   "display_name": "Python 3",
   "language": "python",
   "name": "python3"
  },
  "language_info": {
   "codemirror_mode": {
    "name": "ipython",
    "version": 3
   },
   "file_extension": ".py",
   "mimetype": "text/x-python",
   "name": "python",
   "nbconvert_exporter": "python",
   "pygments_lexer": "ipython3",
   "version": "3.6.3"
  }
 },
 "nbformat": 4,
 "nbformat_minor": 2
}
