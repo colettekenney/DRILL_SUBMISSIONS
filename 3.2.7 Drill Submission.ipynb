{
 "cells": [
  {
   "cell_type": "markdown",
   "metadata": {},
   "source": [
    "# DRILL - Evaluating Data Sources"
   ]
  },
  {
   "cell_type": "markdown",
   "metadata": {},
   "source": [
    "## Question 1\n",
    "<b>Data Source</b>: Amsterdam availability data scraped from AirBnB on December 24th. <b>Question</b>: What are the popular neighborhoods in Amsterdam?\n",
    "\n",
    "### My Answer\n",
    "Because the data is pulled on December 24th it could be skewed towards popular areas of the city that people like to go to around Christmas.\n",
    "\n",
    "### Thinkful's Answer\n",
    "*Amsterdam availability data scraped from AirBnB on December 24th:\n",
    "\n",
    "Christmastime will bias availability in two ways- more AirBnBs may be taken due to vacationers, or fewer AirBnBs may be on offer because people don’t want to share their homes over the holidays. Choose a sampling period that doesn’t include a major holiday, or reframe the question to focus on popular neighborhoods during major holidays."
   ]
  },
  {
   "cell_type": "markdown",
   "metadata": {},
   "source": [
    "## Question 2\n",
    "<b>Data Source</b>: Mental health services use on September 12, 2001 in San Francisco, CA and New York City, NY. <b>Question</b>: How do patterns of mental health service use vary between cities?\n",
    "\n",
    "### My Answer\n",
    "This is the day after 911 in New York City. The comparison of data from New York to San Fran would be affected by the fact that New York just went through a major terrorism attack and crisis, which as a result could skew the patterns of people accessing metnal health services. \n",
    "\n",
    "### Thinkful's Answer\n",
    "*Mental health services use on September 12, 2001 in San Francisco, CA and New York City, NY: Given the terrorist attack on NYC the day before, patterns of mental health services use are likely to be very different in the two cities-- even if they were pretty similar on September 10, 2001. Reframe the question to mental health use in the aftermath of a nearby vs distant crisis, perhaps."
   ]
  },
  {
   "cell_type": "markdown",
   "metadata": {},
   "source": [
    "## Question 3\n",
    "<b>Data Source</b>: Armenian Pub Survey. <b>Question</b>: What are the most common reasons Armenians visit local pubs?\n",
    "\n",
    "### My Answer\n",
    "This seems like a legitimate data source, to survey Aremenians at Armenian pubs to ask them why they are visiting the local pub. Nothing wrong with this I don't think...\n",
    "\n",
    "### Thinkful's Answer\n",
    "*<a href=\"https://www.kaggle.com/erikhambardzumyan/pubs\">Armenian Pub Survey</a>: Respondents are all university students. Reframe to ‘university students’ reasons to visit pubs.’"
   ]
  },
  {
   "cell_type": "code",
   "execution_count": null,
   "metadata": {},
   "outputs": [],
   "source": []
  },
  {
   "cell_type": "code",
   "execution_count": null,
   "metadata": {},
   "outputs": [],
   "source": []
  }
 ],
 "metadata": {
  "kernelspec": {
   "display_name": "Python 3",
   "language": "python",
   "name": "python3"
  },
  "language_info": {
   "codemirror_mode": {
    "name": "ipython",
    "version": 3
   },
   "file_extension": ".py",
   "mimetype": "text/x-python",
   "name": "python",
   "nbconvert_exporter": "python",
   "pygments_lexer": "ipython3",
   "version": "3.6.3"
  }
 },
 "nbformat": 4,
 "nbformat_minor": 2
}
