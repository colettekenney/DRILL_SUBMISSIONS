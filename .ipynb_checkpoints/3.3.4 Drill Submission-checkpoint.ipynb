{
 "cells": [
  {
   "cell_type": "markdown",
   "metadata": {},
   "source": [
    "# DRILL - Descriptive Statistics and Normality\n",
    "\n",
    "To complete the following drills, you'll need to use your Python skills to create some datasets, then use your new statistical knowledge to summarize them. Choose 6 distributions from the list of random distributions available in NumPy, called [“Distributions”](https://docs.scipy.org/doc/numpy/reference/routines.random.html#distributions)\n",
    "\n"
   ]
  },
  {
   "cell_type": "markdown",
   "metadata": {},
   "source": [
    "For each distribution:\n",
    "\n",
    "1. Generate a random variable with 100 datapoints using the code `distributionvar = np.random.distributionname([arguments], 100)`, replacing `distributionvar` with an appropriate variable name and `distributionname` with the name of the distribution you’ve chosen, and filling in the empty space in the parentheses with your chosen values for the appropriate parameters. If you feel uncertain about how to do this, go back to **3.3.3 Other Distributions** assignment for examples of code to use as a starting point.\n",
    "2. Graph the variable using a histogram.\n",
    "3. Compute the mean and standard deviation and plot them as vertical lines on the histogram. (Hint: **3.3.2 “When Does It Break?”** assignment you just completed can help you here.)\n",
    "\n",
    "\n",
    "## <font color=\"green\">I Have No Idea How to Answer Question 4!!</font>\n",
    "4. Evaluate whether the descriptive statistics provided useful information about the variable. Can you identify any common characteristics of the distributions that could be usefully described using the mean and/or standard deviation, versus the ones that could not?\n",
    "\n",
    "Additionally:\n",
    "\n",
    "1. Generate two normally-distributed variables, one with a mean of 5 and standard deviation of 0.5, and the other with a mean of 10 and standard deviation of 1.\n",
    "2. Add them together to create a third variable.\n",
    "3. Graph the third variable using a histogram.\n",
    "4. Compute the mean and standard deviation and plot them as vertical lines on the histogram.\n",
    "5. Evaluate the descriptive statistics against the data.\n",
    "\n",
    "When you've given it a try, you can find a sample solution [here.](https://github.com/Thinkful-Ed/data-201-resources/blob/master/solutions/Prep%20course/3.3.4.ipynb)"
   ]
  },
  {
   "cell_type": "code",
   "execution_count": 1,
   "metadata": {},
   "outputs": [],
   "source": [
    "import numpy as np\n",
    "import pandas as pd\n",
    "import matplotlib.pyplot as plt\n",
    "%matplotlib inline"
   ]
  },
  {
   "cell_type": "markdown",
   "metadata": {},
   "source": [
    "# Laplace Distribution\n",
    "`np.random.laplace(loc=0.0, scale=1.0, size=None)`\n",
    "\n",
    "Draw samples from the Laplace or double exponential distribution with specified location (or mean) and scale (decay).\n",
    "\n",
    "The Laplace distribution is similar to the Gaussian/normal distribution, but is sharper at the peak and has fatter tails. It represents the difference between two independent, identically distributed exponential random variables.\n",
    "\n",
    "**Notes**\n",
    "\n",
    "It has the probability density function\n",
    "\n",
    "\\begin{equation}\n",
    "f(x; \\mu, \\lambda) = \\frac{1}{2\\lambda}\n",
    "\\exp\\left(-\\frac{|x - \\mu|}{\\lambda}\\right).\n",
    "\\end{equation}\n",
    "\n",
    "The first law of Laplace, from 1774, states that the frequency of an error can be expressed as an exponential function of the absolute magnitude of the error, which leads to the Laplace distribution. For many problems in economics and health sciences, this distribution seems to model the data better than the standard Gaussian distribution.\n",
    "\n"
   ]
  },
  {
   "cell_type": "code",
   "execution_count": 2,
   "metadata": {},
   "outputs": [
    {
     "data": {
      "image/png": "[encoded data removed]",
      "text/plain": [
       "<matplotlib.figure.Figure at 0x1132cd860>"
      ]
     },
     "metadata": {},
     "output_type": "display_data"
    }
   ],
   "source": [
    "# Generate a Laplace distribution with location = 0.5 and scale = 0.5\n",
    "# I'm using 1000 data points instead of only 100\n",
    "laplace = np.random.laplace(0.5, 0.5, 1000)\n",
    "\n",
    "# Add verticle line at the mean\n",
    "plt.axvline(laplace.mean(), color='c', linestyle='solid', linewidth=2)\n",
    "\n",
    "# Add a verticle line at one std. dev. above and below the mean.\n",
    "plt.axvline(laplace.mean() + laplace.std(), color='c', linestyle='dashed', linewidth=2)\n",
    "plt.axvline(laplace.mean() - laplace.std(), color='c', linestyle='dashed', linewidth=2)\n",
    "\n",
    "# Plot and print histogram\n",
    "plt.hist(laplace, bins=20, color='orange')\n",
    "plt.show()"
   ]
  },
  {
   "cell_type": "markdown",
   "metadata": {},
   "source": [
    "# Poisson Distribution\n",
    "`np.random.poisson(lam=1.0, size=None)`\n",
    "\n",
    "Draw samples from a Poisson distribution.\n",
    "\n",
    "The Poisson distribution is the limit of the binomial distribution for large N.\n",
    "\n",
    "**Notes**\n",
    "\n",
    "The Poisson distribution\n",
    "\n",
    "\\begin{equation}\n",
    "f(k; \\lambda)=\\frac{\\lambda^k e^{-\\lambda}}{k!}\n",
    "\\end{equation}\n",
    "\n",
    "For events with an expected separation `\\lambda` the Poisson distribution `f(k; \\lambda)` describes the probability of `k` events occurring within the observed interval `\\lambda`.\n",
    "\n",
    "Because the output is limited to the range of the C long type, a ValueError is raised when lam is within 10 sigma of the maximum representable value."
   ]
  },
  {
   "cell_type": "code",
   "execution_count": 3,
   "metadata": {},
   "outputs": [
    {
     "data": {
      "image/png": "[encoded data removed]",
      "text/plain": [
       "<matplotlib.figure.Figure at 0x1132f39e8>"
      ]
     },
     "metadata": {},
     "output_type": "display_data"
    }
   ],
   "source": [
    "# Generate a Poisson distribution with lambda = 5\n",
    "# I'm using 10000 data points instead of only 100\n",
    "poisson = np.random.poisson(5, 10000)\n",
    "\n",
    "# Add verticle line at the mean\n",
    "plt.axvline(poisson.mean(), color='c', linestyle='solid', linewidth=2)\n",
    "\n",
    "# Add a verticle line at one std. dev. above and below the mean.\n",
    "plt.axvline(poisson.mean() + poisson.std(), color='c', linestyle='dashed', linewidth=2)\n",
    "plt.axvline(poisson.mean() - poisson.std(), color='c', linestyle='dashed', linewidth=2)\n",
    "\n",
    "# Plot and print histogram\n",
    "plt.hist(poisson, bins=14, color='orange')\n",
    "plt.show()"
   ]
  },
  {
   "cell_type": "markdown",
   "metadata": {},
   "source": [
    "# Beta Distribution\n",
    "`np.random.beta(a, b, size=None)`\n",
    "\n",
    "Draw samples from a Beta distribution.\n",
    "\n",
    "The Beta distribution is a special case of the Dirichlet distribution, and is related to the Gamma distribution. It has the probability distribution function\n",
    "\n",
    "\\begin{equation}\n",
    "f(x; a,b) = \\frac{1}{B(\\alpha, \\beta)} x^{\\alpha - 1}\n",
    "(1 - x)^{\\beta - 1},\n",
    "\\end{equation}\n",
    "\n",
    "where the normalisation, B, is the beta function,\n",
    "\n",
    "\\begin{equation}\n",
    "B(\\alpha, \\beta) = \\int_0^1 t^{\\alpha - 1}\n",
    "(1 - t)^{\\beta - 1} dt.\n",
    "\\end{equation}\n",
    "\n",
    "It is often seen in Bayesian inference and order statistics."
   ]
  },
  {
   "cell_type": "code",
   "execution_count": 4,
   "metadata": {},
   "outputs": [
    {
     "data": {
      "image/png": "[encoded data removed]",
      "text/plain": [
       "<matplotlib.figure.Figure at 0x1133d8710>"
      ]
     },
     "metadata": {},
     "output_type": "display_data"
    }
   ],
   "source": [
    "# Generate a Beta distribution with a = 1 and b = 5\n",
    "# I'm using 1000 data points instead of only 100\n",
    "beta = np.random.beta(1, 5, 10000)\n",
    "\n",
    "# Add verticle line at the mean\n",
    "plt.axvline(beta.mean(), color='c', linestyle='solid', linewidth=2)\n",
    "\n",
    "# Add a verticle line at one std. dev. above and below the mean.\n",
    "plt.axvline(beta.mean() + beta.std(), color='c', linestyle='dashed', linewidth=2)\n",
    "plt.axvline(beta.mean() - beta.std(), color='c', linestyle='dashed', linewidth=2)\n",
    "\n",
    "# Plot and print histogram\n",
    "plt.hist(beta, bins=20, color='orange')\n",
    "plt.show()"
   ]
  },
  {
   "cell_type": "markdown",
   "metadata": {},
   "source": [
    "# Geometric Distribution\n",
    "`np.random.geometric(p, size=None)`\n",
    "\n",
    "Draw samples from the geometric distribution.\n",
    "\n",
    "Bernoulli trials are experiments with one of two outcomes: success or failure (an example of such an experiment is flipping a coin). The geometric distribution models the number of trials that must be run in order to achieve success. It is therefore supported on the positive integers, `k = 1, 2, ....`\n",
    "\n",
    "The probability mass function of the geometric distribution is\n",
    "\n",
    "\\begin{equation}\n",
    "f(k) = (1 - p)^{k - 1} p\n",
    "\\end{equation}\n",
    "\n",
    "where <em>`p`</em> is the probability of success of an individual trial."
   ]
  },
  {
   "cell_type": "code",
   "execution_count": 5,
   "metadata": {},
   "outputs": [
    {
     "data": {
      "image/png": "[encoded data removed]",
      "text/plain": [
       "<matplotlib.figure.Figure at 0x1132f9e48>"
      ]
     },
     "metadata": {},
     "output_type": "display_data"
    }
   ],
   "source": [
    "# Generate a Geometric distribution with p = 0.35\n",
    "# I'm using 10000 data points instead of only 100\n",
    "geo = np.random.geometric(.35, 10000)\n",
    "\n",
    "# Add verticle line at the mean\n",
    "plt.axvline(geo.mean(), color='c', linestyle='solid', linewidth=2)\n",
    "\n",
    "# Add a verticle line at one std. dev. above and below the mean.\n",
    "plt.axvline(geo.mean() + geo.std(), color='c', linestyle='dashed', linewidth=2)\n",
    "plt.axvline(geo.mean() - geo.std(), color='c', linestyle='dashed', linewidth=2)\n",
    "\n",
    "# Plot and print histogram\n",
    "plt.hist(geo, bins=20, color='orange')\n",
    "plt.show()"
   ]
  },
  {
   "cell_type": "markdown",
   "metadata": {},
   "source": [
    "# LogNormal Distribution\n",
    "`np.random.lognormal(mean=0.0, sigma=1.0, size=None)`\n",
    "\n",
    "Draw samples from a log-normal distribution.\n",
    "\n",
    "Draw samples from a log-normal distribution with specified mean, standard deviation, and array shape. Note that the mean and standard deviation are not the values for the distribution itself, but of the underlying normal distribution it is derived from.\n",
    "\n",
    "**Notes**\n",
    "\n",
    "A variable x has a log-normal distribution if log(x) is normally distributed. The probability density function for the log-normal distribution is:\n",
    "\n",
    "\\begin{equation}\n",
    "p(x) = \\frac{1}{\\sigma x \\sqrt{2\\pi}}\n",
    "e^{(-\\frac{(ln(x)-\\mu)^2}{2\\sigma^2})}\n",
    "\\end{equation}\n",
    "\n",
    "where `\\mu` is the mean and `\\sigma` is the standard deviation of the normally distributed logarithm of the variable. A log-normal distribution results if a random variable is the product of a large number of independent, identically-distributed variables in the same way that a normal distribution results if the variable is the sum of a large number of independent, identically-distributed variables."
   ]
  },
  {
   "cell_type": "code",
   "execution_count": 6,
   "metadata": {},
   "outputs": [
    {
     "data": {
      "image/png": "[encoded data removed]",
      "text/plain": [
       "<matplotlib.figure.Figure at 0x1133b0908>"
      ]
     },
     "metadata": {},
     "output_type": "display_data"
    }
   ],
   "source": [
    "# Generate a LogNormal distribution with mean = 3.0 and sigma = 1.0\n",
    "# I'm using 1000 data points instead of only 100\n",
    "logN = np.random.lognormal(3., 1., 1000)\n",
    "\n",
    "# Add verticle line at the mean\n",
    "plt.axvline(logN.mean(), color='c', linestyle='solid', linewidth=2)\n",
    "\n",
    "# Add a verticle line at one std. dev. above and below the mean.\n",
    "plt.axvline(logN.mean() + logN.std(), color='c', linestyle='dashed', linewidth=2)\n",
    "plt.axvline(logN.mean() - logN.std(), color='c', linestyle='dashed', linewidth=2)\n",
    "\n",
    "# Plot and print histogram\n",
    "plt.hist(logN, bins=20, color='orange')\n",
    "plt.show()"
   ]
  },
  {
   "cell_type": "markdown",
   "metadata": {},
   "source": [
    "# LogSeries Distribution\n",
    "`np.random.logseries(p, size=None)`\n",
    "\n",
    "Draw samples from a logarithmic series distribution.\n",
    "\n",
    "Samples are drawn from a log series distribution with specified shape parameter, 0 < `p` < 1.\n",
    "\n",
    "**Notes**\n",
    "\n",
    "The probability density for the Log Series distribution is\n",
    "\n",
    "\\begin{equation}\n",
    "P(k) = \\frac{-p^k}{k \\ln(1-p)},\n",
    "\\end{equation}\n",
    "\n",
    "where <em>`p`</em> = probability.\n",
    "\n",
    "The log series distribution is frequently used to represent species richness and occurrence, first proposed by Fisher, Corbet, and Williams in 1943 [2]. It may also be used to model the numbers of occupants seen in cars [3].\n"
   ]
  },
  {
   "cell_type": "code",
   "execution_count": 7,
   "metadata": {},
   "outputs": [
    {
     "data": {
      "image/png": "[encoded data removed]",
      "text/plain": [
       "<matplotlib.figure.Figure at 0x11358d2e8>"
      ]
     },
     "metadata": {},
     "output_type": "display_data"
    }
   ],
   "source": [
    "# Generate a LogSeries distribution with probability = 0.6\n",
    "# I'm using 10000 data points instead of only 100\n",
    "logS = np.random.logseries(0.6, 10000)\n",
    "\n",
    "# Add verticle line at the mean\n",
    "plt.axvline(logS.mean(), color='c', linestyle='solid', linewidth=2)\n",
    "\n",
    "# Add a verticle line at one std. dev. above and below the mean.\n",
    "plt.axvline(logS.mean() + logS.std(), color='c', linestyle='dashed', linewidth=2)\n",
    "plt.axvline(logS.mean() - logS.std(), color='c', linestyle='dashed', linewidth=2)\n",
    "\n",
    "# Plot and print histogram\n",
    "plt.hist(logS, bins=20, color='orange')\n",
    "plt.show()"
   ]
  },
  {
   "cell_type": "markdown",
   "metadata": {},
   "source": [
    "# LAST QUESTION\n",
    "Additionally:\n",
    "\n",
    "1. Generate two normally-distributed variables, one with a mean of 5 and standard deviation of 0.5, and the other with a mean of 10 and standard deviation of 1.\n",
    "2. Add them together to create a third variable.\n",
    "3. Graph the third variable using a histogram.\n",
    "4. Compute the mean and standard deviation and plot them as vertical lines on the histogram.\n",
    "5. Evaluate the descriptive statistics against the data.\n",
    "\n",
    "## <font color=\"green\">I Have No Idea How To Answer Question 5 above</font>\n",
    "When you've given it a try, you can find a sample solution [here.](https://github.com/Thinkful-Ed/data-201-resources/blob/master/solutions/Prep%20course/3.3.4.ipynb)"
   ]
  },
  {
   "cell_type": "code",
   "execution_count": 8,
   "metadata": {},
   "outputs": [
    {
     "data": {
      "image/png": "[encoded data removed]",
      "text/plain": [
       "<matplotlib.figure.Figure at 0x1135f34a8>"
      ]
     },
     "metadata": {},
     "output_type": "display_data"
    }
   ],
   "source": [
    "# First Normally Distributed Variable with mean 5 and std. dev. 0.5\n",
    "first = np.random.normal(5, 0.5, 10000)\n",
    "\n",
    "# Second Normally Distributed Variable with mean 10 and std. dev. 1\n",
    "second = np.random.normal(10, 1, 10000)\n",
    "\n",
    "# Third Normally Distributed Variable (added first & second together)\n",
    "third = first + second\n",
    "\n",
    "# Add verticle line at the mean\n",
    "plt.axvline(third.mean(), color='c', linestyle='solid', linewidth=2)\n",
    "\n",
    "# Add a verticle line at one std. dev. above and below the mean.\n",
    "plt.axvline(third.mean() + third.std(), color='c', linestyle='dashed', linewidth=2)\n",
    "plt.axvline(third.mean() - third.std(), color='c', linestyle='dashed', linewidth=2)\n",
    "\n",
    "# Plot and print histogram\n",
    "plt.hist(third, bins=20, color='orange')\n",
    "plt.show()"
   ]
  },
  {
   "cell_type": "code",
   "execution_count": null,
   "metadata": {},
   "outputs": [],
   "source": []
  }
 ],
 "metadata": {
  "kernelspec": {
   "display_name": "Python 3",
   "language": "python",
   "name": "python3"
  },
  "language_info": {
   "codemirror_mode": {
    "name": "ipython",
    "version": 3
   },
   "file_extension": ".py",
   "mimetype": "text/x-python",
   "name": "python",
   "nbconvert_exporter": "python",
   "pygments_lexer": "ipython3",
   "version": "3.6.3"
  }
 },
 "nbformat": 4,
 "nbformat_minor": 2
}
